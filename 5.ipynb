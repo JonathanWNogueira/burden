{
 "cells": [
  {
   "cell_type": "code",
   "execution_count": 119,
   "metadata": {},
   "outputs": [],
   "source": [
    "import numpy as np\n",
    "import math\n",
    "import sympy as sp\n",
    "\n",
    "\n",
    "def diff(f, var = 'x y', d = 'y'):\n",
    "    d = sp.symbols(d)\n",
    "    x, y = sp.symbols(var)\n",
    "    \n",
    "    f_sym = f(x, y)\n",
    "    \n",
    "    df = sp.diff(f_sym, d)\n",
    "    \n",
    "    df = sp.lambdify((x, y), df)\n",
    "    return df\n",
    "\n",
    "dy = lambda t, y: y - t**2 + 1  \n",
    "\n",
    "a, b = 0, 2\n",
    "y0 = 0.5\n"
   ]
  },
  {
   "cell_type": "markdown",
   "metadata": {},
   "source": [
    "**Método de Euler**"
   ]
  },
  {
   "cell_type": "code",
   "execution_count": 120,
   "metadata": {},
   "outputs": [
    {
     "name": "stdout",
     "output_type": "stream",
     "text": [
      "4.865784504320001\n"
     ]
    }
   ],
   "source": [
    "def euler(f, a, b, y0, n = 10):\n",
    "    h = (b - a) / n\n",
    "    t = a\n",
    "    w = y0\n",
    "    \n",
    "    for i in range(1, n+1):\n",
    "        w = w + h * f(t, w)\n",
    "        t = a + i * h\n",
    "    return w\n",
    "\n",
    "w = euler(dy, a, b, y0)\n",
    "print(w)"
   ]
  },
  {
   "cell_type": "markdown",
   "metadata": {},
   "source": [
    "**Método de Taylor de Ordem Superior**"
   ]
  },
  {
   "cell_type": "code",
   "execution_count": 121,
   "metadata": {},
   "outputs": [
    {
     "name": "stdout",
     "output_type": "stream",
     "text": [
      "4.8441317887999995\n"
     ]
    }
   ],
   "source": [
    "def taylor(d, a, b, y0, n = 10):\n",
    "    h = (b - a) / n\n",
    "    X = np.arange(a, b, h)\n",
    "    Y = [y0]\n",
    "    \n",
    "    order = len(d) + 1\n",
    "    for j in range(len(X) - 1):\n",
    "        taylor_sum = Y[j]\n",
    "        for i in range(1,order):\n",
    "            taylor_sum += (d[i-1](X[j], Y[j]) * h**i / math.factorial(i))\n",
    "        Y.append(taylor_sum)\n",
    "    return Y[-1]\n",
    "\n",
    "d = [dy,  diff(dy, var = 't y')]\n",
    "\n",
    "solution = taylor(d, a, b, y0)\n",
    "print(solution)"
   ]
  },
  {
   "cell_type": "markdown",
   "metadata": {},
   "source": [
    "**Método de Runge-Kutta**"
   ]
  },
  {
   "cell_type": "code",
   "execution_count": 122,
   "metadata": {},
   "outputs": [
    {
     "name": "stdout",
     "output_type": "stream",
     "text": [
      "5.305363000692655\n"
     ]
    }
   ],
   "source": [
    "def runge_kutta(f, a, b, y0, N = 10):\n",
    "    h = (b - a) / N \n",
    "    t = a\n",
    "    w = y0\n",
    "    \n",
    "    for i in range(N):\n",
    "        K1 = h * f(t, w)\n",
    "        K2 = h * f(t + h / 2, w + K1 / 2)\n",
    "        K3 = h * f(t + h / 2, w + K2 / 2)\n",
    "        K4 = h * f(t + h, w + K3)\n",
    "        \n",
    "        w = w + (K1 + 2 * K2 + 2 * K3 + K4) / 6\n",
    "        t = t + h\n",
    "    \n",
    "    return w\n",
    "\n",
    "solution = runge_kutta(dy, a, b, y0)\n",
    "print(solution)\n"
   ]
  },
  {
   "cell_type": "markdown",
   "metadata": {},
   "source": [
    "**Método de Runge-Kutta-Fehlberg**"
   ]
  },
  {
   "cell_type": "code",
   "execution_count": 123,
   "metadata": {},
   "outputs": [
    {
     "name": "stdout",
     "output_type": "stream",
     "text": [
      "5.304781449490056\n"
     ]
    }
   ],
   "source": [
    "def runge_kutta_fehlberg(f, a, b, y0, e = 1e-5, n = 10):\n",
    "    h = (b-a) / n\n",
    "    t = a\n",
    "    w = y0\n",
    "    \n",
    "    while t < b:\n",
    "        if t + h > b:\n",
    "            h = b - t\n",
    "        \n",
    "        K1 = h * f(t, w)\n",
    "        K2 = h * f(t + (1/4) * h, w + (1/4) * K1)\n",
    "        K3 = h * f(t + (3/8) * h, w + (3/32) * K1 + (9/32) * K2)\n",
    "        K4 = h * f(t + (12/13) * h, w + (1932/2197) * K1 - (7209/2197) * K2 + (7296/2197) * K3)\n",
    "        K5 = h * f(t + h, w + (439/216) * K1 - 8 * K2 + (3680/513) * K3 - (845/4104) * K4)\n",
    "        K6 = h * f(t + (1/2) * h, w - (8/27) * K1 + 2 * K2 - (3544/2565) * K3 + (1859/4104) * K4 - (11/40) * K5)\n",
    "        \n",
    "        R = abs( (1/360) * K1 - (128/4275) * K3 - (2197/75240) * K4 + (1/50) * K5 + (2/55) * K6 ) / h\n",
    "        \n",
    "        if R <= e:\n",
    "            t = t + h\n",
    "            w = w + 25/216 * K1 + 1408/2565 * K3 + 2197/4104 * K4 - 1/5 * K5\n",
    "        \n",
    "        delta = 0.84 * (e / R)**(1/4)\n",
    "        h = h * min(max(delta, 0.1), 4.0)\n",
    "    \n",
    "    return w\n",
    "\n",
    "solution = runge_kutta_fehlberg(dy, a, b, y0)\n",
    "\n",
    "print(solution)\n"
   ]
  }
 ],
 "metadata": {
  "kernelspec": {
   "display_name": "Python 3",
   "language": "python",
   "name": "python3"
  },
  "language_info": {
   "codemirror_mode": {
    "name": "ipython",
    "version": 3
   },
   "file_extension": ".py",
   "mimetype": "text/x-python",
   "name": "python",
   "nbconvert_exporter": "python",
   "pygments_lexer": "ipython3",
   "version": "3.9.13"
  },
  "orig_nbformat": 4
 },
 "nbformat": 4,
 "nbformat_minor": 2
}
