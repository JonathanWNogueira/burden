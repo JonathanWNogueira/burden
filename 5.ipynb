{
 "cells": [
  {
   "cell_type": "code",
   "execution_count": 554,
   "metadata": {},
   "outputs": [],
   "source": [
    "import numpy as np\n",
    "import math\n",
    "import sympy as sp\n",
    "import matplotlib.pyplot as plt\n",
    "\n",
    "\n",
    "def diff(f, var = 'x y', d = 'y'):\n",
    "    d = sp.symbols(d)\n",
    "    x, y = sp.symbols(var)\n",
    "    \n",
    "    f_sym = f(x, y)\n",
    "    \n",
    "    df = sp.diff(f_sym, d)\n",
    "    \n",
    "    df = sp.lambdify((x, y), df)\n",
    "    return df\n",
    "\n",
    "dy = lambda t, y: y - t**2 + 1  \n",
    "\n",
    "a, b = 0, 2\n",
    "y0 = 0.5\n",
    "h = 0.2\n"
   ]
  },
  {
   "cell_type": "markdown",
   "metadata": {},
   "source": [
    "**Método de Euler**"
   ]
  },
  {
   "cell_type": "code",
   "execution_count": 555,
   "metadata": {},
   "outputs": [
    {
     "name": "stdout",
     "output_type": "stream",
     "text": [
      "4.865784504320001\n"
     ]
    }
   ],
   "source": [
    "def euler(f, a, b, y0, n = 10):\n",
    "    h = (b - a) / n\n",
    "    t = a\n",
    "    w = y0\n",
    "    \n",
    "    for i in range(1, n+1):\n",
    "        w = w + h * f(t, w)\n",
    "        t = a + i * h\n",
    "    return w\n",
    "\n",
    "w = euler(dy, a, b, y0)\n",
    "print(w)"
   ]
  },
  {
   "cell_type": "markdown",
   "metadata": {},
   "source": [
    "**Método de Taylor de Ordem Superior**"
   ]
  },
  {
   "cell_type": "code",
   "execution_count": 556,
   "metadata": {},
   "outputs": [
    {
     "name": "stdout",
     "output_type": "stream",
     "text": [
      "4.8441317887999995\n"
     ]
    }
   ],
   "source": [
    "def taylor(d, a, b, y0, n = 10):\n",
    "    h = (b - a) / n\n",
    "    X = np.arange(a, b, h)\n",
    "    Y = [y0]\n",
    "    \n",
    "    order = len(d) + 1\n",
    "    for j in range(len(X) - 1):\n",
    "        taylor_sum = Y[j]\n",
    "        for i in range(1,order):\n",
    "            taylor_sum += (d[i-1](X[j], Y[j]) * h**i / math.factorial(i))\n",
    "        Y.append(taylor_sum)\n",
    "    return Y[-1]\n",
    "\n",
    "d = [dy,  diff(dy, var = 't y')]\n",
    "\n",
    "solution = taylor(d, a, b, y0)\n",
    "print(solution)"
   ]
  },
  {
   "cell_type": "markdown",
   "metadata": {},
   "source": [
    "**Método de Runge-Kutta**"
   ]
  },
  {
   "cell_type": "code",
   "execution_count": 557,
   "metadata": {},
   "outputs": [
    {
     "name": "stdout",
     "output_type": "stream",
     "text": [
      "5.305363000692655\n"
     ]
    }
   ],
   "source": [
    "def runge_kutta(f, a, b, y0, n = 10):\n",
    "    h = (b - a) / n \n",
    "    t = a\n",
    "    w = y0\n",
    "    \n",
    "    for i in range(n):\n",
    "        K1 = h * f(t, w)\n",
    "        K2 = h * f(t + h / 2, w + K1 / 2)\n",
    "        K3 = h * f(t + h / 2, w + K2 / 2)\n",
    "        K4 = h * f(t + h, w + K3)\n",
    "        \n",
    "        w = w + (K1 + 2 * K2 + 2 * K3 + K4) / 6\n",
    "        t = t + h\n",
    "    \n",
    "    return w\n",
    "\n",
    "solution = runge_kutta(dy, a, b, y0)\n",
    "print(solution)\n"
   ]
  },
  {
   "cell_type": "markdown",
   "metadata": {},
   "source": [
    "**Método de Runge-Kutta-Fehlberg**"
   ]
  },
  {
   "cell_type": "code",
   "execution_count": 558,
   "metadata": {},
   "outputs": [
    {
     "name": "stdout",
     "output_type": "stream",
     "text": [
      "5.304781449490056\n"
     ]
    }
   ],
   "source": [
    "def runge_kutta_fehlberg(f, a, b, y0, e = 1e-5, n = 10):\n",
    "    h = (b-a) / n\n",
    "    t = a\n",
    "    w = y0\n",
    "    \n",
    "    while t < b:\n",
    "        if t + h > b:\n",
    "            h = b - t\n",
    "        \n",
    "        K1 = h * f(t, w)\n",
    "        K2 = h * f(t + (1/4) * h, w + (1/4) * K1)\n",
    "        K3 = h * f(t + (3/8) * h, w + (3/32) * K1 + (9/32) * K2)\n",
    "        K4 = h * f(t + (12/13) * h, w + (1932/2197) * K1 - (7209/2197) * K2 + (7296/2197) * K3)\n",
    "        K5 = h * f(t + h, w + (439/216) * K1 - 8 * K2 + (3680/513) * K3 - (845/4104) * K4)\n",
    "        K6 = h * f(t + (1/2) * h, w - (8/27) * K1 + 2 * K2 - (3544/2565) * K3 + (1859/4104) * K4 - (11/40) * K5)\n",
    "        \n",
    "        R = abs( (1/360) * K1 - (128/4275) * K3 - (2197/75240) * K4 + (1/50) * K5 + (2/55) * K6 ) / h\n",
    "        \n",
    "        if R <= e:\n",
    "            t = t + h\n",
    "            w = w + 25/216 * K1 + 1408/2565 * K3 + 2197/4104 * K4 - 1/5 * K5\n",
    "        \n",
    "        delta = 0.84 * (e / R)**(1/4)\n",
    "        h = h * min(max(delta, 0.1), 4.0)\n",
    "    \n",
    "    return w\n",
    "\n",
    "solution = runge_kutta_fehlberg(dy, a, b, y0)\n",
    "\n",
    "print(solution)\n"
   ]
  },
  {
   "cell_type": "code",
   "execution_count": 559,
   "metadata": {},
   "outputs": [],
   "source": [
    "def runge_kutta4(f, a, y0, h):\n",
    "    K1 = h * f(a, y0)\n",
    "    K2 = h * f(a + h/2, y0 + K1/2)\n",
    "    K3 = h * f(a + h/2, y0 + K2/2)\n",
    "    K4 = h * f(a + h, y0 + K3)\n",
    "    \n",
    "    return y0 + (K1 + 2*K2 + 2*K3 + K4) / 6.0"
   ]
  },
  {
   "cell_type": "markdown",
   "metadata": {},
   "source": [
    "**Método Explícito de Adams-Bashfort**"
   ]
  },
  {
   "cell_type": "code",
   "execution_count": 560,
   "metadata": {},
   "outputs": [],
   "source": [
    "def predictor(f, t, y, h, i):\n",
    "    fn = f(t[i], y[i])\n",
    "    fn1 = f(t[i-1], y[i-1])\n",
    "    fn2 = f(t[i-2], y[i-2])\n",
    "    fn3 = f(t[i-3], y[i-3])\n",
    "\n",
    "    return y[i] + (h / 24) * (55*fn - 59*fn1 + 37*fn2 - 9*fn3)\n"
   ]
  },
  {
   "cell_type": "code",
   "execution_count": 561,
   "metadata": {},
   "outputs": [
    {
     "name": "stdout",
     "output_type": "stream",
     "text": [
      "5.307508181393281\n"
     ]
    }
   ],
   "source": [
    "def adams_bashfort(f, a, b, y0, h):\n",
    "    n = int((b - a) / h)\n",
    "    \n",
    "    t = np.zeros(n + 1)\n",
    "    y = np.zeros(n + 1)\n",
    "\n",
    "    t[0] = a\n",
    "    y[0] = y0\n",
    "\n",
    "    for i in range(3):\n",
    "        y[i+1] = runge_kutta4(f, t[i], y[i], h)\n",
    "        t[i+1] = t[i] + h\n",
    "\n",
    "    for i in range(3, n):\n",
    "        t[i+1] = t[i] + h\n",
    "        y[i+1] = predictor(f, t, y, h, i)\n",
    "    \n",
    "    return y[-1]\n",
    "\n",
    "solution = adams_bashfort(dy, a, b, y0, h)\n",
    "print(solution)\n"
   ]
  },
  {
   "cell_type": "markdown",
   "metadata": {},
   "source": [
    "**Método Implícito de Adams-Moulton**"
   ]
  },
  {
   "cell_type": "code",
   "execution_count": 562,
   "metadata": {},
   "outputs": [],
   "source": [
    "def corrector(f, t, y, h, i):\n",
    "    y_predict = predictor(f, t, y, h, i)\n",
    "\n",
    "    fn = f(t[i+1], y_predict)\n",
    "    fn1 = f(t[i], y[i])\n",
    "    fn2 = f(t[i-1], y[i-1])\n",
    "    fn3 = f(t[i-2], y[i-2])\n",
    "    \n",
    "    return y[i] + (h / 24) * (9*fn + 19*fn1 - 5*fn2 + fn3)\n"
   ]
  },
  {
   "cell_type": "markdown",
   "metadata": {},
   "source": [
    "**Método Preditor-Corretor**"
   ]
  },
  {
   "cell_type": "code",
   "execution_count": 563,
   "metadata": {},
   "outputs": [
    {
     "name": "stdout",
     "output_type": "stream",
     "text": [
      "5.3053706715158455\n"
     ]
    }
   ],
   "source": [
    "def predictor_corrector(f, a, b, y0, h):\n",
    "\n",
    "    n = int((b - a) / h)\n",
    "    \n",
    "    t = np.zeros(n + 1)\n",
    "    y = np.zeros(n + 1)\n",
    "\n",
    "    t[0] = a\n",
    "    y[0] = y0\n",
    "\n",
    "    for i in range(3):\n",
    "        y[i+1] = runge_kutta4(f, t[i], y[i], h)\n",
    "        t[i+1] = t[i] + h\n",
    "\n",
    "    for i in range(3, n):\n",
    "        t[i+1] = t[i] + h\n",
    "        y[i+1] = corrector(f, t, y, h, i)\n",
    "    \n",
    "    return y[-1]\n",
    "\n",
    "solution = predictor_corrector(dy, a, b, y0, h)\n",
    "print(solution)"
   ]
  }
 ],
 "metadata": {
  "kernelspec": {
   "display_name": "Python 3",
   "language": "python",
   "name": "python3"
  },
  "language_info": {
   "codemirror_mode": {
    "name": "ipython",
    "version": 3
   },
   "file_extension": ".py",
   "mimetype": "text/x-python",
   "name": "python",
   "nbconvert_exporter": "python",
   "pygments_lexer": "ipython3",
   "version": "3.9.13"
  },
  "orig_nbformat": 4
 },
 "nbformat": 4,
 "nbformat_minor": 2
}
