{
 "cells": [
  {
   "cell_type": "code",
   "execution_count": 89,
   "metadata": {},
   "outputs": [],
   "source": [
    "import numpy as np\n",
    "\n",
    "def F(x):\n",
    "    return np.array([\n",
    "        3 * x[0] - np.cos(x[1] * x[2]) - 0.5, \n",
    "        x[0]**2 - 81 * (x[1] + 0.1)**2 + np.sin(x[2]) + 1.06, \n",
    "        np.exp(-x[0] * x[1]) + 20 * x[2] + (10 * np.pi - 3) / 3\n",
    "    ])\n",
    "\n",
    "x0 = np.array([0.1, 0.1, -0.1])"
   ]
  },
  {
   "cell_type": "markdown",
   "metadata": {},
   "source": [
    "**Método de Newton para Sistemas Não-Lineares**"
   ]
  },
  {
   "cell_type": "code",
   "execution_count": 90,
   "metadata": {},
   "outputs": [
    {
     "name": "stdout",
     "output_type": "stream",
     "text": [
      "[ 5.00000000e-01  1.99289049e-10 -5.23598775e-01]\n"
     ]
    }
   ],
   "source": [
    "def J(F, x0, h = 1e-10):\n",
    "    n = len(x0)\n",
    "    Fx0 = F(x0)\n",
    "    J = np.zeros((n, n))\n",
    "    \n",
    "    for i in range(n):\n",
    "        x = x0\n",
    "        x[i] += h\n",
    "        Fx = F(x)\n",
    "    \n",
    "        J[:, i] = (Fx - Fx0) / h\n",
    "    return J\n",
    "\n",
    "def newton(F, J, x0, e = 1e-5, max_i = 100):\n",
    "    x = x0\n",
    "    for i in range(max_i):\n",
    "        Fx = F(x)\n",
    "        Jx = J(F,x)\n",
    "\n",
    "        y = np.linalg.solve(Jx, -Fx)\n",
    "        x = x + y\n",
    "        \n",
    "        if np.linalg.norm(y) < e: break\n",
    "    return x\n",
    "\n",
    "solution = newton(F, J, x0.copy())\n",
    "\n",
    "print(solution)"
   ]
  },
  {
   "cell_type": "markdown",
   "metadata": {},
   "source": [
    "**Método de Broyden**"
   ]
  },
  {
   "cell_type": "code",
   "execution_count": 91,
   "metadata": {},
   "outputs": [
    {
     "name": "stdout",
     "output_type": "stream",
     "text": [
      "[ 5.00000000e-01  8.76988305e-08 -5.23598773e-01]\n"
     ]
    }
   ],
   "source": [
    "def broyden(F, x0, e = 1e-5, max_i = 100):\n",
    "    n = len(x0)\n",
    "    x = x0\n",
    "    Fx = F(x)\n",
    "    \n",
    "    A = np.eye(n)\n",
    "    \n",
    "    for i in range(max_i):\n",
    "        s = np.linalg.solve(A, -Fx)\n",
    "        xi = x + s\n",
    "        Fxi = F(xi)\n",
    "    \n",
    "        y = Fxi - Fx\n",
    "        A += np.outer((y - A @ s), s) / np.dot(s, s)\n",
    "        \n",
    "        x = xi\n",
    "        Fx = Fxi\n",
    "        \n",
    "        if np.linalg.norm(s) < e: break\n",
    "    return x\n",
    "\n",
    "\n",
    "solution = broyden(F, x0)\n",
    "\n",
    "print(solution)"
   ]
  },
  {
   "cell_type": "markdown",
   "metadata": {},
   "source": [
    "**Método do Gradiente**"
   ]
  },
  {
   "cell_type": "code",
   "execution_count": 92,
   "metadata": {},
   "outputs": [
    {
     "name": "stdout",
     "output_type": "stream",
     "text": [
      "[ 4.99999206e-01 -1.71600991e-08 -5.23598785e-01]\n"
     ]
    }
   ],
   "source": [
    "def find_alpha(F, x, z):\n",
    "    alpha = 1\n",
    "    g = lambda  x: 0.5 * np.linalg.norm(F(x))**2\n",
    "    gi = g(x)\n",
    "    \n",
    "    while g(x - alpha * z) >= gi: alpha /= 2\n",
    "    \n",
    "    return alpha\n",
    "\n",
    "def gradient(F, J, x0, e = 1e-5, max_i = 1000):\n",
    "    x = x0\n",
    "    for i in range(max_i):\n",
    "        Fx = F(x)\n",
    "        Jx = J(F, x)\n",
    "        \n",
    "        g = Jx.T @ Fx\n",
    "        \n",
    "        if np.linalg.norm(g) < e: break\n",
    "        \n",
    "        alpha = find_alpha(F, x, g)\n",
    "        \n",
    "        x = x - alpha * g\n",
    "    return x\n",
    "\n",
    "solution = gradient(F, J, x0)\n",
    "\n",
    "print(solution)\n"
   ]
  },
  {
   "cell_type": "markdown",
   "metadata": {},
   "source": [
    "**Método da Continuação**"
   ]
  },
  {
   "cell_type": "code",
   "execution_count": 93,
   "metadata": {},
   "outputs": [
    {
     "name": "stdout",
     "output_type": "stream",
     "text": [
      "[ 0.53833727  0.47577383 -0.5187311 ]\n"
     ]
    }
   ],
   "source": [
    "def continuation(F, x0,  max_i = 100):\n",
    "    h = 1.0 / max_i\n",
    "    b = -h * F(x0)\n",
    "    \n",
    "    x = x0\n",
    "\n",
    "    for i in range(max_i):\n",
    "        A1 = J(F, x)\n",
    "        k1 = np.linalg.solve(A1, b)\n",
    "        \n",
    "        A2 = J(F, x + 0.5 * k1)\n",
    "        k2 = np.linalg.solve(A2, b)\n",
    "        \n",
    "        A3 = J(F, x + 0.5 * k2)\n",
    "        k3 = np.linalg.solve(A3, b)\n",
    "        \n",
    "        A4 = J(F, x + k3)\n",
    "        k4 = np.linalg.solve(A4, b)\n",
    "        \n",
    "        x = x + (k1 + 2*k2 + 2*k3 + k4) / 6\n",
    "        \n",
    "    return x\n",
    "\n",
    "solution = continuation(F, x0)\n",
    "\n",
    "print(solution)\n"
   ]
  }
 ],
 "metadata": {
  "kernelspec": {
   "display_name": "Python 3",
   "language": "python",
   "name": "python3"
  },
  "language_info": {
   "codemirror_mode": {
    "name": "ipython",
    "version": 3
   },
   "file_extension": ".py",
   "mimetype": "text/x-python",
   "name": "python",
   "nbconvert_exporter": "python",
   "pygments_lexer": "ipython3",
   "version": "3.9.13"
  },
  "orig_nbformat": 4
 },
 "nbformat": 4,
 "nbformat_minor": 2
}
